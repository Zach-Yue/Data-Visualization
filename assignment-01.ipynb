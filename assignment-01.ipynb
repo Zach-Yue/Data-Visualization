{
 "cells": [
  {
   "cell_type": "code",
   "execution_count": 1,
   "metadata": {},
   "outputs": [],
   "source": [
    "string = \"I have read and executed code in following notebooks: 01-lists.ipynb, 02-forloops.ipynb, 03-lambdas.ipynb, and 04-dictionary.ipynb.\""
   ]
  },
  {
   "cell_type": "code",
   "execution_count": 2,
   "metadata": {},
   "outputs": [
    {
     "name": "stdout",
     "output_type": "stream",
     "text": [
      "I have read and executed code in following notebooks: 01-lists.ipynb, 02-forloops.ipynb, 03-lambdas.ipynb, and 04-dictionary.ipynb.\n"
     ]
    }
   ],
   "source": [
    "print(string)"
   ]
  }
 ],
 "metadata": {
  "kernelspec": {
   "display_name": "Python 3",
   "language": "python",
   "name": "python3"
  },
  "language_info": {
   "codemirror_mode": {
    "name": "ipython",
    "version": 3
   },
   "file_extension": ".py",
   "mimetype": "text/x-python",
   "name": "python",
   "nbconvert_exporter": "python",
   "pygments_lexer": "ipython3",
   "version": "3.12.1"
  }
 },
 "nbformat": 4,
 "nbformat_minor": 2
}
